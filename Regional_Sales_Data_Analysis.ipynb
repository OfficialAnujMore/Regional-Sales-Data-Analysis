{
  "nbformat": 4,
  "nbformat_minor": 0,
  "metadata": {
    "colab": {
      "provenance": [],
      "authorship_tag": "ABX9TyN/zHF4kaeJ4CLJmAL8wBY2",
      "include_colab_link": true
    },
    "kernelspec": {
      "name": "python3",
      "display_name": "Python 3"
    },
    "language_info": {
      "name": "python"
    }
  },
  "cells": [
    {
      "cell_type": "markdown",
      "metadata": {
        "id": "view-in-github",
        "colab_type": "text"
      },
      "source": [
        "<a href=\"https://colab.research.google.com/github/OfficialAnujMore/Regional-Sales-Data-Analysis/blob/main/Regional_Sales_Data_Analysis.ipynb\" target=\"_parent\"><img src=\"https://colab.research.google.com/assets/colab-badge.svg\" alt=\"Open In Colab\"/></a>"
      ]
    },
    {
      "cell_type": "markdown",
      "source": [
        "### Problem Statement\n",
        "\n",
        "2014-2018 sales data to identify key revenue and profits\n",
        "\n"
      ],
      "metadata": {
        "id": "QqTgMS8E8cCo"
      }
    },
    {
      "cell_type": "code",
      "source": [
        "# Importing libraries\n",
        "\n",
        "import pandas as pd\n",
        "import numpy as np\n",
        "import matplotlib.pyplot as plt\n",
        "import seaborn as sns"
      ],
      "metadata": {
        "id": "OrZblbdi8mwS"
      },
      "execution_count": null,
      "outputs": []
    },
    {
      "cell_type": "code",
      "source": [
        "sheets = pd.read_excel('/content/Regional Sales Dataset.xlsx', sheet_name=None)"
      ],
      "metadata": {
        "id": "D03exoHn9Gfg"
      },
      "execution_count": null,
      "outputs": []
    },
    {
      "cell_type": "code",
      "source": [
        "# Assign dataframes to each sheet\n",
        "df_sales = sheets['Sales Orders']\n",
        "df_customers = sheets['Customers']\n",
        "df_products = sheets['Products']\n",
        "df_regions = sheets['Regions']\n",
        "df_state_reg = sheets['State Regions']\n",
        "df_budgets = sheets['2017 Budgets']"
      ],
      "metadata": {
        "id": "m7YcC5_Z9OmS"
      },
      "execution_count": null,
      "outputs": []
    },
    {
      "cell_type": "code",
      "source": [
        "df_sales.head()"
      ],
      "metadata": {
        "id": "FszB991Y9qJi"
      },
      "execution_count": null,
      "outputs": []
    },
    {
      "cell_type": "code",
      "source": [
        "df_customers.head()"
      ],
      "metadata": {
        "id": "fmaGnpsW-nz8"
      },
      "execution_count": null,
      "outputs": []
    },
    {
      "cell_type": "code",
      "source": [
        "df_products.head()"
      ],
      "metadata": {
        "id": "xpvu7iTD-z2n"
      },
      "execution_count": null,
      "outputs": []
    },
    {
      "cell_type": "code",
      "source": [
        "df_regions.head()"
      ],
      "metadata": {
        "id": "sYuz97QN-1Lx"
      },
      "execution_count": null,
      "outputs": []
    },
    {
      "cell_type": "code",
      "source": [
        "df_state_reg.head()"
      ],
      "metadata": {
        "id": "Lx2f4_Qu-2Gj"
      },
      "execution_count": null,
      "outputs": []
    },
    {
      "cell_type": "code",
      "source": [
        "df_budgets.head()"
      ],
      "metadata": {
        "id": "8HNhsvz3-3i4"
      },
      "execution_count": null,
      "outputs": []
    },
    {
      "cell_type": "markdown",
      "source": [],
      "metadata": {
        "id": "W2ACIMLLAJpz"
      }
    },
    {
      "cell_type": "markdown",
      "source": [
        "# Data Cleaning and Wrangling"
      ],
      "metadata": {
        "id": "6-KF-TWGAMfS"
      }
    },
    {
      "cell_type": "code",
      "source": [
        "df = df_sales.merge(\n",
        "    df_customers,\n",
        "    how='left',\n",
        "    left_on='Customer Name Index',\n",
        "    right_on='Customer Index'\n",
        "  )"
      ],
      "metadata": {
        "id": "DTUR31feAQ3e"
      },
      "execution_count": null,
      "outputs": []
    },
    {
      "cell_type": "code",
      "source": [
        "# New data frame created merging sales and customer data\n",
        "\n",
        "df.head()"
      ],
      "metadata": {
        "id": "yl0JFvwXA2LQ"
      },
      "execution_count": null,
      "outputs": []
    },
    {
      "cell_type": "code",
      "source": [
        "# Merge with products\n",
        "df = df.merge(\n",
        "    df_products,\n",
        "    how='left',\n",
        "    left_on='Product Description Index',\n",
        "    right_on='Index'\n",
        "  )"
      ],
      "metadata": {
        "id": "gN2N9nn8Lc07"
      },
      "execution_count": null,
      "outputs": []
    },
    {
      "cell_type": "code",
      "source": [
        "# Merge with regions\n",
        "df = df.merge(\n",
        "    df_regions,\n",
        "    how='left',\n",
        "    left_on='Delivery Region Index',\n",
        "    right_on='id'\n",
        "  )"
      ],
      "metadata": {
        "id": "CgXIDuTJLxtp"
      },
      "execution_count": null,
      "outputs": []
    },
    {
      "cell_type": "code",
      "source": [
        "df.head()"
      ],
      "metadata": {
        "id": "2j733idcL6oL"
      },
      "execution_count": null,
      "outputs": []
    },
    {
      "cell_type": "code",
      "source": [
        "# Merge with State Regions\n",
        "df = df.merge(\n",
        "    df_state_reg[[\"State Code\", \"Region\"]],\n",
        "    how='left',\n",
        "    left_on='state_code',\n",
        "    right_on='State Code'\n",
        "  )"
      ],
      "metadata": {
        "id": "3zTwo3DYMDAq"
      },
      "execution_count": null,
      "outputs": []
    },
    {
      "cell_type": "code",
      "source": [
        "# Merge with the budgets\n",
        "df = df.merge(\n",
        "    df_budgets,\n",
        "    how='left',\n",
        "    on='Product Name'\n",
        "  )"
      ],
      "metadata": {
        "id": "JqLCQO2OP7tD"
      },
      "execution_count": null,
      "outputs": []
    },
    {
      "cell_type": "code",
      "source": [
        "df.head(5)"
      ],
      "metadata": {
        "id": "oWPSh3BHMnXM"
      },
      "execution_count": null,
      "outputs": []
    },
    {
      "cell_type": "code",
      "source": [
        "# Customer Index\n",
        "# Index\n",
        "# id\n",
        "# State Code\n",
        "\n",
        "# Clean up duplicate columns after merging data\n",
        "\n",
        "cols_to_drop = ['Customer Index', 'Index', 'id', 'State Code']\n",
        "df = df.drop(columns=cols_to_drop, errors='ignore')"
      ],
      "metadata": {
        "id": "F-iOC9DUNIN0"
      },
      "execution_count": null,
      "outputs": []
    },
    {
      "cell_type": "code",
      "source": [
        "df.head(5)"
      ],
      "metadata": {
        "id": "IUgp3Pd9NfBt"
      },
      "execution_count": null,
      "outputs": []
    },
    {
      "cell_type": "code",
      "source": [
        "# Converting all columns to lower case for consistency and easier access\n",
        "\n",
        "df.columns = df.columns.str.lower()\n",
        "df.columns.values"
      ],
      "metadata": {
        "id": "ywd78AsZNiSz"
      },
      "execution_count": null,
      "outputs": []
    },
    {
      "cell_type": "code",
      "source": [
        "# Keep the important columns and delete the once we dont need\n",
        "cols_to_keep = [\n",
        "    'ordernumber',\n",
        "    'orderdate',\n",
        "    'customer names',\n",
        "    'channel',\n",
        "    'product name',\n",
        "    'order quantity',\n",
        "    'unit price',\n",
        "    'line total',\n",
        "    'total unit cost',\n",
        "    'state_code',\n",
        "    'county',\n",
        "    'state',\n",
        "    'region',\n",
        "    'latitude',\n",
        "    'longitude',\n",
        "    '2017 budgets'\n",
        "]\n"
      ],
      "metadata": {
        "id": "Tixs-ziJPK9z"
      },
      "execution_count": null,
      "outputs": []
    },
    {
      "cell_type": "code",
      "source": [
        "df = df[cols_to_keep]\n",
        "df.head(5)"
      ],
      "metadata": {
        "id": "5iiiMex_Q44a"
      },
      "execution_count": null,
      "outputs": []
    },
    {
      "cell_type": "code",
      "source": [
        "# Rename the columns\n",
        "df = df.rename(columns={\n",
        "    'ordernumber': 'order_number',\n",
        "    'orderdate': 'order_date',\n",
        "    'customer names': 'customer_name',\n",
        "    'product name':'product_name',\n",
        "    'order quantity': 'quantity',\n",
        "    'unit price': 'unit_price',\n",
        "    'line total': 'revenue',\n",
        "    'total unit cost': 'cost',\n",
        "    'state_code': 'state',\n",
        "    'state':'state_name',\n",
        "    'region':'us_region',\n",
        "    'latitude': 'lat',\n",
        "    'longitude': 'lon',\n",
        "    '2017 budgets': 'budget'\n",
        "})\n",
        "df.head(5)"
      ],
      "metadata": {
        "id": "ZRcEmgNwsfCZ"
      },
      "execution_count": null,
      "outputs": []
    },
    {
      "cell_type": "code",
      "source": [
        "# Blank out budges for non 2017 orders\n",
        "\n",
        "df.loc[df['order_date'].dt.year!= 2017,'budget'] = pd.NA\n",
        "\n",
        "# line total is revenue\n",
        "df[['order_date','product_name', 'revenue', 'budget' ]].head(5)"
      ],
      "metadata": {
        "id": "F35mGuU8r4LJ"
      },
      "execution_count": null,
      "outputs": []
    },
    {
      "cell_type": "code",
      "source": [
        "df.info()"
      ],
      "metadata": {
        "id": "oNiGQAWStpIU"
      },
      "execution_count": null,
      "outputs": []
    },
    {
      "cell_type": "code",
      "source": [
        "# Filter the dateset to include only records for year 2017\n",
        "df_2017 = df[df['order_date'].dt.year == 2017]\n",
        "df_2017.isnull().sum()"
      ],
      "metadata": {
        "id": "Xxlm4459tsgM"
      },
      "execution_count": null,
      "outputs": []
    },
    {
      "cell_type": "markdown",
      "source": [
        "# Feature Engineering"
      ],
      "metadata": {
        "id": "I9JDUss2vpXo"
      }
    },
    {
      "cell_type": "code",
      "source": [
        "df_2017.head(5)"
      ],
      "metadata": {
        "id": "mSizgXdYvt0x"
      },
      "execution_count": null,
      "outputs": []
    },
    {
      "cell_type": "code",
      "source": [
        "df['total_cost'] = df['order_quantity'] * df['cost']"
      ],
      "metadata": {
        "id": "BL9TbAcpvw3T"
      },
      "execution_count": null,
      "outputs": []
    },
    {
      "cell_type": "code",
      "source": [
        "df['profit'] = df['revenue'] - df['total_cost']\n",
        "df['profit_margin_pct'] = df['profit']/df['revenue'] * 100"
      ],
      "metadata": {
        "id": "hwN2bSz0wBx2"
      },
      "execution_count": null,
      "outputs": []
    },
    {
      "cell_type": "code",
      "source": [
        "df.head(5)"
      ],
      "metadata": {
        "id": "9LfgHvspwfPk"
      },
      "execution_count": null,
      "outputs": []
    },
    {
      "cell_type": "markdown",
      "source": [
        "# EDA\n"
      ],
      "metadata": {
        "id": "YJoy0vqxwwnh"
      }
    },
    {
      "cell_type": "code",
      "source": [
        "df['order_month'] = df['order_date'].dt.to_period('M')\n",
        "monthly_sales = df.groupby('order_month')['revenue'].sum()\n",
        "plt.figure(figsize=(15,4))\n",
        "monthly_sales.plot(marker='o', color='navy')\n",
        "\n",
        "from matplotlib.ticker import FuncFormatter\n",
        "formatter = FuncFormatter(lambda x, pos: f'{x/1e6:.1f}M')\n",
        "plt.gca().yaxis.set_major_formatter(formatter)\n",
        "plt.title('Monthly Sales')\n",
        "plt.xlabel('Month')\n",
        "plt.ylabel('Total Revenue (Millions)')\n",
        "\n",
        "plt.xticks(rotation=45)\n",
        "plt.tight_layout()\n",
        "plt.show()\n"
      ],
      "metadata": {
        "id": "Lp1IywWMwzna"
      },
      "execution_count": null,
      "outputs": []
    },
    {
      "cell_type": "code",
      "source": [
        "df['order_month_name'] = df['order_date'].dt.month_name()\n",
        "df['order_month_num'] = df['order_date'].dt.month\n",
        "\n",
        "df"
      ],
      "metadata": {
        "id": "uJJdWrfrwvnJ"
      },
      "execution_count": null,
      "outputs": []
    },
    {
      "cell_type": "code",
      "source": [
        "\n",
        "# 1. Filter out any 2018 orders\n",
        "df_ = df[df['order_date'].dt.year != 2018]   # exclude any partial-year data (i.e., January and February of 2018) so that the monthly totals aren’t skewed by an incomplete year.\n",
        "                                            #I create df_ so I don’t alter the original df, preserving it intact for other analyses while filtering just for this chart.\n",
        "\n",
        "\n",
        "# 2. Group by month number and month name, sum revenue, then sort by month number\n",
        "monthly_sales = (\n",
        "    df_\n",
        "    .groupby(['order_month_num', 'order_month_name'])['revenue']\n",
        "    .sum()\n",
        "    .sort_index()\n",
        ")\n",
        "\n",
        "# 3. Plot setup\n",
        "from matplotlib.ticker import FuncFormatter\n",
        "\n",
        "plt.figure(figsize=(13, 4))\n",
        "plt.plot(\n",
        "    monthly_sales.index.get_level_values(1),  # X-axis: month names\n",
        "    monthly_sales.values,                     # Y-axis: total revenue\n",
        "    marker='o',                                # circle markers\n",
        "    color='navy'                               # line color\n",
        ")\n",
        "\n",
        "# 4. Scale y-axis values to millions for readability\n",
        "formatter = FuncFormatter(lambda x, pos: f'{x/1e6:.1f}M')\n",
        "plt.gca().yaxis.set_major_formatter(formatter)\n",
        "\n",
        "# 5. Add title and axis labels\n",
        "plt.title('Overall Monthly Sales Trend (Excluding 2018)')\n",
        "plt.xlabel('Month')\n",
        "plt.ylabel('Total Revenue (Millions)')\n",
        "\n",
        "# 6. Rotate x-axis labels for readability\n",
        "plt.xticks(rotation=45)\n",
        "\n",
        "# 7. Adjust layout to prevent clipping\n",
        "plt.tight_layout()\n",
        "\n",
        "# 8. Display the plot\n",
        "plt.show()"
      ],
      "metadata": {
        "id": "nVX2Gb73xd4W"
      },
      "execution_count": null,
      "outputs": []
    },
    {
      "cell_type": "code",
      "source": [
        "# Calculate total revenue for each product and convert values to millions\n",
        "top_prod = df.groupby('product_name')['revenue'].sum() / 1_000_000\n",
        "\n",
        "# Select the top 10 products by revenue\n",
        "top_prod = top_prod.nlargest(10)\n",
        "\n",
        "# Set the figure size for clarity\n",
        "plt.figure(figsize=(9, 4))\n",
        "\n",
        "# Plot a horizontal bar chart: x-axis as revenue in millions, y-axis as product names\n",
        "sns.barplot(\n",
        "    x=top_prod.values,    # X-axis: revenue values in millions\n",
        "    y=top_prod.index,     # Y-axis: product names\n",
        "    palette='viridis'     # Color palette for bars\n",
        ")\n",
        "\n",
        "# Add title and axis labels\n",
        "plt.title('Top 10 Products by Revenue (in Millions)')  # Main title\n",
        "plt.xlabel('Total Revenue (in Millions)')              # X-axis label\n",
        "plt.ylabel('Product Name')                             # Y-axis label\n",
        "\n",
        "# Adjust layout to prevent overlapping elements\n",
        "plt.tight_layout()\n",
        "\n",
        "# Display the plot\n",
        "plt.show()"
      ],
      "metadata": {
        "id": "CQoc87rJ2Shs"
      },
      "execution_count": null,
      "outputs": []
    },
    {
      "cell_type": "code",
      "source": [
        "# Sales by channel\n",
        "\n",
        "chan_sales =df.groupby('channel')['revenue'].sum().sort_values(ascending=True)\n",
        "\n",
        "plt.figure(figsize=(5,5))\n",
        "plt.pie(\n",
        "    chan_sales.values,\n",
        "    labels=chan_sales.index,\n",
        "    autopct='%1.1f%%',\n",
        "    colors=sns.color_palette('coolwarm')\n",
        ")\n",
        "plt.title('Total Sales by Channel')\n",
        "plt.tight_layout()\n",
        "plt.show()"
      ],
      "metadata": {
        "id": "MkxIj0qC3h9v"
      },
      "execution_count": null,
      "outputs": []
    },
    {
      "cell_type": "code",
      "source": [
        "## Average order value (AOV) Distribution\n",
        "\n",
        "aov=df.groupby('order_number')['revenue'].sum()\n",
        "plt.figure(figsize=(12,4))\n",
        "plt.hist(\n",
        "    aov,\n",
        "    bins=50,\n",
        "    color='skyblue',\n",
        "    edgecolor='black'\n",
        ")\n",
        "\n",
        "plt.title('Distribution of Average Order Value (AOV)')\n",
        "plt.xlabel('Average Order Value (AOV) in USD')\n",
        "plt.ylabel('Number of orders')\n",
        "plt.tight_layout()\n",
        "plt.show()\n"
      ],
      "metadata": {
        "id": "h821g9Ya4i5b"
      },
      "execution_count": null,
      "outputs": []
    },
    {
      "cell_type": "code",
      "source": [
        "\n",
        "# Calculate profit margin percentage for each record\n",
        "df['profit_margin_pct'] = (df['profit'] / df['revenue']) * 100\n",
        "\n",
        "# Set the figure size for clarity\n",
        "plt.figure(figsize=(6,4))\n",
        "\n",
        "# Plot unit price vs. profit margin percentage\n",
        "plt.scatter(\n",
        "    df['unit_price'],            # X-axis: unit price in USD\n",
        "    df['profit_margin_pct'],     # Y-axis: profit margin percentage\n",
        "    alpha=0.6,                   # Transparency level for overlapping points\n",
        "    color='green'                # Point color\n",
        ")\n",
        "\n",
        "# Add title and axis labels\n",
        "plt.title('Profit Margin % vs. Unit Price')  # Chart title\n",
        "plt.xlabel('Unit Price (USD)')                # X-axis label\n",
        "plt.ylabel('Profit Margin (%)')               # Y-axis label\n",
        "\n",
        "# Adjust layout to prevent clipping\n",
        "plt.tight_layout()\n",
        "\n",
        "# Display the plot\n",
        "plt.show()"
      ],
      "metadata": {
        "id": "ml9OFM0j7EA1"
      },
      "execution_count": null,
      "outputs": []
    },
    {
      "cell_type": "code",
      "source": [
        "# Set figure size for clarity\n",
        "plt.figure(figsize=(12,4))\n",
        "\n",
        "# Create a boxplot of unit_price by product_name\n",
        "sns.boxplot(\n",
        "    data=df,\n",
        "    x='product_name',   # X-axis: product categories\n",
        "    y='unit_price',      # Y-axis: unit price values\n",
        "    color='g'            # Box color\n",
        ")\n",
        "\n",
        "# Add title and axis labels\n",
        "plt.title('Unit Price Distribution per Product')  # Chart title\n",
        "plt.xlabel('Product')                              # X-axis label\n",
        "plt.ylabel('Unit Price (USD)')                     # Y-axis label\n",
        "\n",
        "# Rotate x-axis labels for better readability\n",
        "plt.xticks(rotation=45, ha='right')\n",
        "\n",
        "# Adjust layout to prevent clipping of labels\n",
        "plt.tight_layout()\n",
        "\n",
        "# Display the plot\n",
        "plt.show()"
      ],
      "metadata": {
        "id": "Gs2JFaAH6lBZ"
      },
      "execution_count": null,
      "outputs": []
    },
    {
      "cell_type": "code",
      "source": [
        "\n",
        "import matplotlib.pyplot as plt\n",
        "import seaborn as sns\n",
        "\n",
        "# 1. Aggregate total sales by region (in millions)\n",
        "region_sales = (\n",
        "    df\n",
        "    .groupby('us_region')['revenue']\n",
        "    .sum()\n",
        "    .sort_values(ascending=False)  # so bars go top→bottom\n",
        "    / 1e6                         # convert to millions\n",
        ")\n",
        "\n",
        "# 2. Plot\n",
        "plt.figure(figsize=(10, 4))\n",
        "sns.barplot(\n",
        "    x=region_sales.values,\n",
        "    y=region_sales.index,\n",
        "    palette='Greens_r'          # dark→light green\n",
        ")\n",
        "\n",
        "# 3. Formatting\n",
        "plt.title('Total Sales by US Region', fontsize=16, pad=12)\n",
        "plt.xlabel('Total Sales (in Millions USD)', fontsize=12)\n",
        "plt.ylabel('US Region', fontsize=12)\n",
        "plt.xticks(rotation=0)\n",
        "sns.despine(left=True, bottom=True)\n",
        "\n",
        "plt.tight_layout()\n",
        "plt.show()"
      ],
      "metadata": {
        "id": "VvKqwDrD7LSk"
      },
      "execution_count": null,
      "outputs": []
    },
    {
      "cell_type": "code",
      "source": [
        "\n",
        "import plotly.express as px\n",
        "\n",
        "# 1. Aggregate revenue by state (in millions)\n",
        "state_sales = (\n",
        "    df\n",
        "    .groupby('state')['revenue']\n",
        "    .sum()\n",
        "    .reset_index()\n",
        ")\n",
        "state_sales['revenue_m'] = state_sales['revenue'] / 1e6  # convert to millions\n",
        "\n",
        "# 2. Plotly choropleth\n",
        "fig = px.choropleth(\n",
        "    state_sales,\n",
        "    locations='state',            # column with state codes\n",
        "    locationmode='USA-states',    # tells Plotly these are US states\n",
        "    color='revenue_m',\n",
        "    scope='usa',\n",
        "    labels={'revenue_m':'Total Sales (M USD)'},\n",
        "    color_continuous_scale='Blues',\n",
        "    hover_data={'revenue_m':':.2f'}  # show 2 decimals\n",
        ")\n",
        "\n",
        "# 3. Layout tuning\n",
        "fig.update_layout(\n",
        "    title_text='Total Sales by State',\n",
        "    margin=dict(l=0, r=0, t=40, b=0),\n",
        "    coloraxis_colorbar=dict(\n",
        "        title='Sales (M USD)',\n",
        "        ticksuffix='M'\n",
        "    )\n",
        ")\n",
        "\n",
        "fig.show()"
      ],
      "metadata": {
        "id": "one-y2IkmlHU"
      },
      "execution_count": null,
      "outputs": []
    },
    {
      "cell_type": "code",
      "source": [
        "# 🔝 Calculate total revenue per customer and select top 10\n",
        "top_rev = (\n",
        "    df.groupby('customer_name')['revenue']\n",
        "      .sum()                        # Sum revenue for each customer\n",
        "      .sort_values(ascending=False) # Sort from highest to lowest\n",
        "      .head(10)                     # Keep top 10 customers\n",
        ")\n",
        "\n",
        "# 🔻 Calculate total revenue per customer and select bottom 10\n",
        "bottom_rev = (\n",
        "    df.groupby('customer_name')['revenue']\n",
        "      .sum()                        # Sum revenue for each customer\n",
        "      .sort_values(ascending=True)  # Sort from lowest to highest\n",
        "      .head(10)                     # Keep bottom 10 customers\n",
        ")\n",
        "\n",
        "# Create a figure with two side-by-side subplots\n",
        "fig, axes = plt.subplots(1, 2, figsize=(16, 5))\n",
        "\n",
        "# Plot 1: Top 10 customers by revenue (converted to millions)\n",
        "sns.barplot(\n",
        "    x=top_rev.values / 1e6,    # X-axis: revenue in millions\n",
        "    y=top_rev.index,           # Y-axis: customer names\n",
        "    palette='Blues_r',         # Color palette (reversed blues)\n",
        "    ax=axes[0]                 # Draw on the left subplot\n",
        ")\n",
        "axes[0].set_title('Top 10 Customers by Revenue', fontsize=14)         # Title\n",
        "axes[0].set_xlabel('Revenue (Million USD)', fontsize=12)              # X-axis label\n",
        "axes[0].set_ylabel('Customer Name', fontsize=12)                      # Y-axis label\n",
        "\n",
        "# Plot 2: Bottom 10 customers by revenue (converted to millions)\n",
        "sns.barplot(\n",
        "    x=bottom_rev.values / 1e6, # X-axis: revenue in millions\n",
        "    y=bottom_rev.index,        # Y-axis: customer names\n",
        "    palette='Reds',            # Color palette (reds)\n",
        "    ax=axes[1]                 # Draw on the right subplot\n",
        ")\n",
        "axes[1].set_title('Bottom 10 Customers by Revenue', fontsize=14)      # Title\n",
        "axes[1].set_xlabel('Revenue (Million USD)', fontsize=12)              # X-axis label\n",
        "axes[1].set_ylabel('Customer Name', fontsize=12)                      # Y-axis label\n",
        "\n",
        "# Adjust layout to prevent overlap and display both charts\n",
        "plt.tight_layout()\n",
        "plt.show()"
      ],
      "metadata": {
        "id": "TTXjKnUwmnYF"
      },
      "execution_count": null,
      "outputs": []
    },
    {
      "cell_type": "code",
      "source": [
        "# 1️⃣ Compute average profit margin percentage for each channel\n",
        "channel_margin = (\n",
        "    df.groupby('channel')['profit_margin_pct']  # Group by sales channel\n",
        "      .mean()                                  # Calculate mean profit margin %\n",
        "      .sort_values(ascending=False)            # Sort channels from highest to lowest margin\n",
        ")\n",
        "\n",
        "# 2️⃣ Set the figure size for clarity\n",
        "plt.figure(figsize=(6, 4))\n",
        "\n",
        "# 3️⃣ Plot a bar chart of average profit margin by channel\n",
        "ax = sns.barplot(\n",
        "    x=channel_margin.index,    # X-axis: channel names\n",
        "    y=channel_margin.values,   # Y-axis: average profit margin values\n",
        "    palette='coolwarm'         # Color palette for bars\n",
        ")\n",
        "\n",
        "# 4️⃣ Add chart title and axis labels\n",
        "plt.title('Average Profit Margin by Channel')  # Main title\n",
        "plt.xlabel('Sales Channel')                    # X-axis label\n",
        "plt.ylabel('Avg Profit Margin (%)')             # Y-axis label\n",
        "\n",
        "# 5️⃣ Annotate each bar with its exact margin percentage\n",
        "for i, v in enumerate(channel_margin.values):\n",
        "    ax.text(\n",
        "        i,                  # X position (bar index)\n",
        "        v + 0.5,            # Y position (bar height + small offset)\n",
        "        f\"{v:.2f}%\",        # Text label showing percentage with two decimals\n",
        "        ha='center',        # Center-align the text horizontally\n",
        "        fontweight='bold'   # Bold font for readability\n",
        "    )\n",
        "\n",
        "# 6️⃣ Adjust layout to prevent clipping and display the plot\n",
        "plt.tight_layout()\n",
        "plt.show()"
      ],
      "metadata": {
        "id": "xPYeaybCmvI-"
      },
      "execution_count": null,
      "outputs": []
    },
    {
      "cell_type": "code",
      "source": [
        "# Aggregate total revenue and unique order count per state\n",
        "state_rev = df.groupby('state_name').agg(\n",
        "    revenue=('revenue', 'sum'),          # Sum up revenue per state\n",
        "    orders=('order_number', 'nunique')   # Count unique orders per state\n",
        ").sort_values('revenue', ascending=False).head(10)  # Keep top 10 by revenue\n",
        "\n",
        "# Plot 1: Top 10 states by revenue (scaled to millions)\n",
        "plt.figure(figsize=(15, 4))\n",
        "sns.barplot(\n",
        "    x=state_rev.index,                   # X-axis: state names\n",
        "    y=state_rev['revenue'] / 1e6,        # Y-axis: revenue in millions\n",
        "    palette='coolwarm'                   # Color palette\n",
        ")\n",
        "plt.title('Top 10 States by Revenue')     # Chart title\n",
        "plt.xlabel('State')                       # X-axis label\n",
        "plt.ylabel('Total Revenue (Million USD)') # Y-axis label\n",
        "plt.tight_layout()                        # Adjust layout\n",
        "plt.show()                                # Display the plot\n",
        "\n",
        "# Plot 2: Top 10 states by number of orders\n",
        "plt.figure(figsize=(15, 4))\n",
        "sns.barplot(\n",
        "    x=state_rev.index,                   # X-axis: state names\n",
        "    y=state_rev['orders'],               # Y-axis: order counts\n",
        "    palette='coolwarm'                   # Color palette\n",
        ")\n",
        "plt.title('Top 10 States by Number of Orders')  # Chart title\n",
        "plt.xlabel('State')                              # X-axis label\n",
        "plt.ylabel('Order Count')                        # Y-axis label\n",
        "plt.tight_layout()                               # Adjust layout\n",
        "plt.show()"
      ],
      "metadata": {
        "id": "BVdUxU-am2m2"
      },
      "execution_count": null,
      "outputs": []
    },
    {
      "cell_type": "code",
      "source": [
        "\n",
        "# Aggregate metrics per customer\n",
        "cust_summary = df.groupby('customer_name').agg(\n",
        "    total_revenue=('revenue', 'sum'),\n",
        "    total_profit=('profit', 'sum'),\n",
        "    avg_margin=('profit_margin_pct', 'mean'),\n",
        "    orders=('order_number', 'nunique')\n",
        ")\n",
        "\n",
        "# Convert revenue to millions\n",
        "cust_summary['total_revenue_m'] = cust_summary['total_revenue'] / 1e6\n",
        "\n",
        "plt.figure(figsize=(7, 5))\n",
        "\n",
        "# Bubble chart with revenue in millions\n",
        "sns.scatterplot(\n",
        "    data=cust_summary,\n",
        "    x='total_revenue_m',        # <-- use revenue in millions\n",
        "    y='avg_margin',\n",
        "    size='orders',\n",
        "    sizes=(20, 200),\n",
        "    alpha=0.7\n",
        ")\n",
        "\n",
        "plt.title('Customer Segmentation: Revenue vs. Profit Margin')\n",
        "plt.xlabel('Total Revenue (Million USD)')  # <-- updated label\n",
        "plt.ylabel('Avg Profit Margin (%)')\n",
        "\n",
        "plt.tight_layout()\n",
        "plt.show()"
      ],
      "metadata": {
        "id": "q-9fBz0Gm5Ne"
      },
      "execution_count": null,
      "outputs": []
    },
    {
      "cell_type": "code",
      "source": [
        "# List numeric columns to include in the correlation calculation\n",
        "num_cols = ['quantity', 'unit_price', 'revenue', 'cost', 'profit']\n",
        "\n",
        "# Calculate the correlation matrix for these numeric features\n",
        "corr = df[num_cols].corr()\n",
        "\n",
        "# Set the figure size for clarity\n",
        "plt.figure(figsize=(6,4))\n",
        "\n",
        "# Plot the heatmap with annotations and a viridis colormap\n",
        "sns.heatmap(\n",
        "    corr,           # Data: correlation matrix\n",
        "    annot=True,     # Display the correlation coefficients on the heatmap\n",
        "    fmt=\".2f\",      # Format numbers to two decimal places\n",
        "    cmap='viridis'  # Color palette for the heatmap\n",
        ")\n",
        "\n",
        "# Add title for context\n",
        "plt.title('Correlation Matrix')\n",
        "\n",
        "# Adjust layout to prevent clipping\n",
        "plt.tight_layout()\n",
        "\n",
        "# Display the heatmap\n",
        "plt.show()"
      ],
      "metadata": {
        "id": "bxNPDb0sm7fD"
      },
      "execution_count": null,
      "outputs": []
    },
    {
      "cell_type": "code",
      "source": [
        "df"
      ],
      "metadata": {
        "id": "rn5MRATOsI2R"
      },
      "execution_count": null,
      "outputs": []
    },
    {
      "cell_type": "code",
      "source": [
        "\n",
        "# Export Final DataFrame to CSV\n",
        "df.to_csv('Sales_data(EDA Exported).csv', index=False)"
      ],
      "metadata": {
        "id": "q3VqN4lOsLPb"
      },
      "execution_count": null,
      "outputs": []
    },
    {
      "cell_type": "markdown",
      "source": [
        "Key Insights\n",
        "- Monthly Revenue Cycle:\n",
        "Revenue stays stable between ≈ 26.5M across 2014–2017, with no consistent seasonal spikes. Sharpest drop (≈$21.2M) occurs in early 2017, indicating a possible one-time disruption.\n",
        "\n",
        "- Channel Mix:\n",
        "Wholesale: 54%. Distributors: 31%. Exports: 15% — opportunity to scale international presence.\n",
        "\n",
        "- Top Products (Revenue):\n",
        "Product 26:\n",
        "110M; Product 13:\n",
        "68–75M; bottom performers: $52–57M.\n",
        "\n",
        "- Profit Margins:\n",
        "Profit margins range broadly from ≈18% to ≈60%, with no strong correlation to unit price. Dense horizontal bands suggest standardized pricing strategies across tiers.\n",
        "\n",
        "- Seasonal Volume:\n",
        "No strong monthly pattern, but slight volume uptick appears around May–June. Early 2017 dip (≈$21.2M) may require investigation.\n",
        "\n",
        "- Regional Performance:\n",
        "California leads: ≈230M Revenue & 7500+ orders. Illinois/Florida/Texas: ≈\n",
        "85M–110M & ≈3500–4500 orders. NY/Indiana: ≈\n",
        "54M & 2000+ orders."
      ],
      "metadata": {
        "id": "-WqEnjrRsSPS"
      }
    }
  ]
}